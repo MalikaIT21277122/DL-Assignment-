{
  "cells": [
    {
      "cell_type": "markdown",
      "metadata": {
        "id": "s9KliHFjc3iG"
      },
      "source": [
        "# 1. Data Preprocessing: You are loading and cleaning the dataset (IMDB reviews), preparing the data for the model."
      ]
    },
    {
      "cell_type": "code",
      "execution_count": 19,
      "metadata": {
        "id": "7Dl_R0ux69l_"
      },
      "outputs": [],
      "source": [
        "import pandas as pd\n",
        "import numpy as np\n",
        "import re\n",
        "import tensorflow as tf\n",
        "from tensorflow.keras.preprocessing.text import Tokenizer\n",
        "from tensorflow.keras.preprocessing.sequence import pad_sequences\n",
        "from sklearn.model_selection import train_test_split\n",
        "from sklearn.preprocessing import LabelEncoder\n"
      ]
    },
    {
      "cell_type": "markdown",
      "metadata": {
        "id": "mOd8NfK4didD"
      },
      "source": [
        "# Load dataset"
      ]
    },
    {
      "cell_type": "code",
      "execution_count": 20,
      "metadata": {
        "id": "M-fikuCl7FL_"
      },
      "outputs": [],
      "source": [
        "dataset = pd.read_csv('/content/IMDB Dataset.csv')\n"
      ]
    },
    {
      "cell_type": "markdown",
      "metadata": {
        "id": "2ROXlO7Sdu5R"
      },
      "source": [
        "# Clean the text (remove HTML, punctuation, numbers, and convert to lowercase)"
      ]
    },
    {
      "cell_type": "code",
      "execution_count": 21,
      "metadata": {
        "id": "3wBkj7s-7GDo"
      },
      "outputs": [],
      "source": [
        "def clean_text(text):\n",
        "    text = re.sub(r'<.*?>', '', text)  # Remove HTML tags\n",
        "    text = re.sub(r'[^\\w\\s]', '', text)  # Remove punctuation\n",
        "    text = re.sub(r'\\d+', '', text)  # Remove numbers\n",
        "    text = text.lower()  # Convert to lowercase\n",
        "    return text\n",
        "\n",
        "dataset['review'] = dataset['review'].apply(clean_text)\n"
      ]
    },
    {
      "cell_type": "markdown",
      "metadata": {
        "id": "_K1v9mFId-fc"
      },
      "source": [
        "Explanation:\n",
        "This section is preparing the IMDB dataset by loading it and cleaning the text reviews. You remove HTML tags, punctuation, numbers, and convert everything to lowercase for consistency."
      ]
    },
    {
      "cell_type": "markdown",
      "metadata": {
        "id": "bZjxTXbResG7"
      },
      "source": [
        "# 2. Tokenizing and Padding the Sequences: Next, you will tokenize the text and pad sequences to make the input compatible with the BiLSTM model.\n"
      ]
    },
    {
      "cell_type": "markdown",
      "metadata": {
        "id": "mLN6I9mtf8dz"
      },
      "source": [
        "# Tokenize the text data"
      ]
    },
    {
      "cell_type": "code",
      "execution_count": 22,
      "metadata": {
        "id": "qFJPpvHQ7W3c"
      },
      "outputs": [],
      "source": [
        "tokenizer = Tokenizer(num_words=5000)\n",
        "tokenizer.fit_on_texts(dataset['review'])"
      ]
    },
    {
      "cell_type": "markdown",
      "metadata": {
        "id": "MMl-qofEgEms"
      },
      "source": [
        "# Convert the texts to sequences"
      ]
    },
    {
      "cell_type": "code",
      "execution_count": 23,
      "metadata": {
        "id": "RcWvw0qEgBU1"
      },
      "outputs": [],
      "source": [
        "X = tokenizer.texts_to_sequences(dataset['review'])\n",
        "X = pad_sequences(X, maxlen=100)"
      ]
    },
    {
      "cell_type": "markdown",
      "metadata": {
        "id": "U5QKOZFSgL7V"
      },
      "source": [
        "# Encode the labels (positive/negative reviews)\n"
      ]
    },
    {
      "cell_type": "code",
      "execution_count": 24,
      "metadata": {
        "id": "jckFAFkmfcBj"
      },
      "outputs": [],
      "source": [
        "le = LabelEncoder()\n",
        "y = le.fit_transform(dataset['sentiment'])"
      ]
    },
    {
      "cell_type": "markdown",
      "metadata": {
        "id": "82L68_Z3gSya"
      },
      "source": [
        "Explanation:\n",
        "\n",
        "The text is tokenized (converted into sequences of integers) using a maximum vocabulary size of 5000. Sequences are then padded to ensure they all have the same length (100 words). The labels are encoded (0 or 1) for classification."
      ]
    },
    {
      "cell_type": "markdown",
      "metadata": {
        "id": "nJSvFM187b7h"
      },
      "source": [
        "# 3. Splitting Data for Training and Testing: Before training, you need to split your data into training and testing sets."
      ]
    },
    {
      "cell_type": "markdown",
      "metadata": {
        "id": "tVuEZZoigtAE"
      },
      "source": [
        "# Split the data into training and test sets"
      ]
    },
    {
      "cell_type": "code",
      "execution_count": 25,
      "metadata": {
        "id": "5Ue4jfPP7Xri"
      },
      "outputs": [],
      "source": [
        "X_train, X_test, y_train, y_test = train_test_split(X, y, test_size=0.2, random_state=42)"
      ]
    },
    {
      "cell_type": "markdown",
      "metadata": {
        "id": "LPx_Cngog1MF"
      },
      "source": [
        "Explanation:\n",
        "The dataset is split into 80% training and 20% testing data."
      ]
    },
    {
      "cell_type": "markdown",
      "metadata": {
        "id": "7w9KOYwB7nMQ"
      },
      "source": [
        "# 4. Building the BiLSTM Model: Now, the actual BiLSTM model is built and compiled with the relevant loss function and optimizer."
      ]
    },
    {
      "cell_type": "markdown",
      "metadata": {
        "id": "8GbDPlsJhDTE"
      },
      "source": [
        "# Build a BiLSTM model"
      ]
    },
    {
      "cell_type": "code",
      "execution_count": 26,
      "metadata": {
        "colab": {
          "base_uri": "https://localhost:8080/"
        },
        "id": "eJqzxFfY7mbF",
        "outputId": "de8267a8-9246-4085-85ae-b98bf76a991c"
      },
      "outputs": [
        {
          "output_type": "stream",
          "name": "stderr",
          "text": [
            "/usr/local/lib/python3.10/dist-packages/keras/src/layers/core/embedding.py:90: UserWarning: Argument `input_length` is deprecated. Just remove it.\n",
            "  warnings.warn(\n"
          ]
        }
      ],
      "source": [
        "model = tf.keras.Sequential([\n",
        "    tf.keras.layers.Embedding(input_dim=5000, output_dim=128, input_length=100),\n",
        "    tf.keras.layers.Bidirectional(tf.keras.layers.LSTM(64)),\n",
        "    tf.keras.layers.Dense(1, activation='sigmoid')\n",
        "])\n",
        "\n",
        "model.compile(loss='binary_crossentropy', optimizer='adam', metrics=['accuracy'])"
      ]
    },
    {
      "cell_type": "markdown",
      "metadata": {
        "id": "pSUIa5FqhKul"
      },
      "source": [
        "Explanation:\n",
        "\n",
        "This model uses an embedding layer to convert words into dense vectors of size 128, followed by a Bidirectional LSTM (BiLSTM) with 64 units. The output layer is a single neuron with a sigmoid activation for binary classification."
      ]
    },
    {
      "cell_type": "markdown",
      "metadata": {
        "id": "eziW1sZqhP-z"
      },
      "source": [
        "# 5. Training the Model: You then train the model and store the training history in the history variable."
      ]
    },
    {
      "cell_type": "markdown",
      "metadata": {
        "id": "RsH1INQihX1m"
      },
      "source": [
        "# Train the model"
      ]
    },
    {
      "cell_type": "code",
      "execution_count": 27,
      "metadata": {
        "colab": {
          "base_uri": "https://localhost:8080/"
        },
        "id": "2YFN4AIY7tUQ",
        "outputId": "c201ff6d-8de6-41a2-9087-d983ee03817c"
      },
      "outputs": [
        {
          "output_type": "stream",
          "name": "stdout",
          "text": [
            "Epoch 1/5\n",
            "\u001b[1m625/625\u001b[0m \u001b[32m━━━━━━━━━━━━━━━━━━━━\u001b[0m\u001b[37m\u001b[0m \u001b[1m165s\u001b[0m 258ms/step - accuracy: 0.7430 - loss: 0.4943 - val_accuracy: 0.8522 - val_loss: 0.3326\n",
            "Epoch 2/5\n",
            "\u001b[1m625/625\u001b[0m \u001b[32m━━━━━━━━━━━━━━━━━━━━\u001b[0m\u001b[37m\u001b[0m \u001b[1m201s\u001b[0m 256ms/step - accuracy: 0.8823 - loss: 0.2853 - val_accuracy: 0.8554 - val_loss: 0.3352\n",
            "Epoch 3/5\n",
            "\u001b[1m625/625\u001b[0m \u001b[32m━━━━━━━━━━━━━━━━━━━━\u001b[0m\u001b[37m\u001b[0m \u001b[1m161s\u001b[0m 257ms/step - accuracy: 0.9102 - loss: 0.2231 - val_accuracy: 0.8604 - val_loss: 0.3529\n",
            "Epoch 4/5\n",
            "\u001b[1m625/625\u001b[0m \u001b[32m━━━━━━━━━━━━━━━━━━━━\u001b[0m\u001b[37m\u001b[0m \u001b[1m201s\u001b[0m 256ms/step - accuracy: 0.9399 - loss: 0.1615 - val_accuracy: 0.8517 - val_loss: 0.3844\n",
            "Epoch 5/5\n",
            "\u001b[1m625/625\u001b[0m \u001b[32m━━━━━━━━━━━━━━━━━━━━\u001b[0m\u001b[37m\u001b[0m \u001b[1m202s\u001b[0m 257ms/step - accuracy: 0.9573 - loss: 0.1206 - val_accuracy: 0.8489 - val_loss: 0.4559\n"
          ]
        }
      ],
      "source": [
        "history = model.fit(X_train, y_train, epochs=5, batch_size=64, validation_data=(X_test, y_test))"
      ]
    },
    {
      "cell_type": "markdown",
      "metadata": {
        "id": "VMMv-2Hvhmp1"
      },
      "source": [
        "Explanation:\n",
        "\n",
        "The model is trained for 5 epochs with a batch size of 64. The training and validation accuracies are tracked using the history object."
      ]
    },
    {
      "cell_type": "markdown",
      "metadata": {
        "id": "BN2xy-xkhptm"
      },
      "source": [
        "# 6. Plotting Training and Validation Accuracy Graphs: Here is where you plot two separate graphs for training and validation accuracy:"
      ]
    },
    {
      "cell_type": "code",
      "execution_count": 28,
      "metadata": {
        "id": "YNXC2VuwGpyj"
      },
      "outputs": [],
      "source": [
        "import matplotlib.pyplot as plt"
      ]
    },
    {
      "cell_type": "markdown",
      "metadata": {
        "id": "fF1fK0MwiA80"
      },
      "source": [
        "# Plot Training Accuracy"
      ]
    },
    {
      "cell_type": "code",
      "execution_count": 44,
      "metadata": {
        "colab": {
          "base_uri": "https://localhost:8080/",
          "height": 564
        },
        "id": "9tvt-L24h8Xw",
        "outputId": "7f153c1d-b877-48d6-be07-6d83e783918e"
      },
      "outputs": [
        {
          "output_type": "display_data",
          "data": {
            "text/plain": [
              "<Figure size 800x600 with 1 Axes>"
            ],
            "image/png": "[encoded data removed]"
          },
          "metadata": {}
        }
      ],
      "source": [
        "plt.figure(figsize=(8, 6))\n",
        "plt.plot(history.history['accuracy'], label='Training Accuracy', color='blue')\n",
        "plt.title('Training Accuracy Over Epochs')\n",
        "plt.ylabel('Accuracy')\n",
        "plt.xlabel('Epoch')\n",
        "plt.legend(loc='upper left')\n",
        "plt.show()"
      ]
    },
    {
      "cell_type": "markdown",
      "metadata": {
        "id": "dZ3igUZPiH7F"
      },
      "source": [
        "# Plot Validation Accuracy"
      ]
    },
    {
      "cell_type": "code",
      "execution_count": 45,
      "metadata": {
        "colab": {
          "base_uri": "https://localhost:8080/",
          "height": 564
        },
        "id": "YhOFCyX-iHKs",
        "outputId": "7bafcbcb-b379-425c-8ffb-efd6cc39dda4"
      },
      "outputs": [
        {
          "output_type": "display_data",
          "data": {
            "text/plain": [
              "<Figure size 800x600 with 1 Axes>"
            ],
            "image/png": "[encoded data removed]"
          },
          "metadata": {}
        }
      ],
      "source": [
        "plt.figure(figsize=(8, 6))\n",
        "plt.plot(history.history['val_accuracy'], label='Validation Accuracy', color='green')\n",
        "plt.title('Validation Accuracy Over Epochs')\n",
        "plt.ylabel('Accuracy')\n",
        "plt.xlabel('Epoch')\n",
        "plt.legend(loc='upper left')\n",
        "plt.show()"
      ]
    },
    {
      "cell_type": "markdown",
      "metadata": {
        "id": "C7SWxxuKiPOT"
      },
      "source": [
        "Explanation:\n",
        "\n",
        "The first graph plots training accuracy over the epochs using the history.history['accuracy'] values.\n",
        "The second graph plots validation accuracy over the epochs using the history.history['val_accuracy'] values.\n",
        "\n",
        "\n",
        "\n",
        "Demonstration of the Output:\n",
        "\n",
        "Training Accuracy Graph: You will see a blue line representing how the training accuracy improves (or changes) over the epochs.\n",
        "Validation Accuracy Graph: The green line will show how the validation accuracy changes over the epochs, allowing you to evaluate the model's performance on unseen data."
      ]
    },
    {
      "cell_type": "markdown",
      "metadata": {
        "id": "tuDWw_oC7x_Y"
      },
      "source": [
        "# 7. Evaluate the Model"
      ]
    },
    {
      "cell_type": "markdown",
      "metadata": {
        "id": "YkZ83dRhltLE"
      },
      "source": [
        "# Model Accuracy"
      ]
    },
    {
      "cell_type": "code",
      "execution_count": 31,
      "metadata": {
        "colab": {
          "base_uri": "https://localhost:8080/"
        },
        "id": "r5bt4WFd7vzh",
        "outputId": "d8ca580e-8c19-41ae-9ea4-5e8585012386"
      },
      "outputs": [
        {
          "output_type": "stream",
          "name": "stdout",
          "text": [
            "\u001b[1m313/313\u001b[0m \u001b[32m━━━━━━━━━━━━━━━━━━━━\u001b[0m\u001b[37m\u001b[0m \u001b[1m11s\u001b[0m 36ms/step - accuracy: 0.8492 - loss: 0.4551\n",
            "Test Accuracy: 84.89%\n"
          ]
        }
      ],
      "source": [
        "loss, accuracy = model.evaluate(X_test, y_test)\n",
        "print(f'Test Accuracy: {accuracy * 100:.2f}%')\n"
      ]
    },
    {
      "cell_type": "code",
      "execution_count": 32,
      "metadata": {
        "colab": {
          "base_uri": "https://localhost:8080/",
          "height": 430
        },
        "id": "om2sK_9Y70jM",
        "outputId": "bdc63a2d-a156-4469-9a07-cbbd865e54b7"
      },
      "outputs": [
        {
          "output_type": "display_data",
          "data": {
            "text/plain": [
              "<Figure size 640x480 with 1 Axes>"
            ],
            "image/png": "[encoded data removed]"
          },
          "metadata": {}
        }
      ],
      "source": [
        "import matplotlib.pyplot as plt\n",
        "\n",
        "plt.plot(history.history['accuracy'], label='train_accuracy')\n",
        "plt.plot(history.history['val_accuracy'], label='val_accuracy')\n",
        "plt.legend()\n",
        "plt.show()\n"
      ]
    },
    {
      "cell_type": "code",
      "execution_count": 33,
      "metadata": {
        "colab": {
          "base_uri": "https://localhost:8080/"
        },
        "id": "QN6ufv1X73_l",
        "outputId": "c0df8323-5e66-49e0-e638-f12cc743116a"
      },
      "outputs": [
        {
          "output_type": "stream",
          "name": "stderr",
          "text": [
            "WARNING:absl:You are saving your model as an HDF5 file via `model.save()` or `keras.saving.save_model(model)`. This file format is considered legacy. We recommend using instead the native Keras format, e.g. `model.save('my_model.keras')` or `keras.saving.save_model(model, 'my_model.keras')`. \n",
            "WARNING:absl:Compiled the loaded model, but the compiled metrics have yet to be built. `model.compile_metrics` will be empty until you train or evaluate the model.\n"
          ]
        }
      ],
      "source": [
        "model.save('bilstm_imdb_model.h5')\n",
        "model = tf.keras.models.load_model('bilstm_imdb_model.h5')\n"
      ]
    },
    {
      "cell_type": "markdown",
      "metadata": {
        "id": "GV3oCYinl6Pn"
      },
      "source": [
        "# Predictive Analytics on Negative / Positive Output"
      ]
    },
    {
      "cell_type": "code",
      "execution_count": 34,
      "metadata": {
        "id": "e0ogaqKY-H9c"
      },
      "outputs": [],
      "source": [
        "def predictive_system(review):\n",
        "    # Clean the review just like during training\n",
        "    review = clean_text(review)\n",
        "\n",
        "    # Convert the review to sequences and pad it\n",
        "    sequences = tokenizer.texts_to_sequences([review])\n",
        "    padded_sequence = pad_sequences(sequences, maxlen=200)\n",
        "\n",
        "    # Make a prediction\n",
        "    prediction = model.predict(padded_sequence)\n",
        "\n",
        "    # Determine the sentiment\n",
        "    sentiment = \"positive\" if prediction[0][0] > 0.5 else \"negative\"\n",
        "    return sentiment\n"
      ]
    },
    {
      "cell_type": "markdown",
      "metadata": {
        "id": "0h2I6FQXmTvF"
      },
      "source": [
        "# Reviewing Outputs"
      ]
    },
    {
      "cell_type": "markdown",
      "metadata": {
        "id": "JlwkM1wGma08"
      },
      "source": [
        "# Positive Output"
      ]
    },
    {
      "cell_type": "code",
      "execution_count": 35,
      "metadata": {
        "colab": {
          "base_uri": "https://localhost:8080/"
        },
        "id": "lGqAF6e0-JCH",
        "outputId": "4a469be4-1e4f-4b33-bf73-519c446e2ce8"
      },
      "outputs": [
        {
          "output_type": "stream",
          "name": "stdout",
          "text": [
            "\u001b[1m1/1\u001b[0m \u001b[32m━━━━━━━━━━━━━━━━━━━━\u001b[0m\u001b[37m\u001b[0m \u001b[1m0s\u001b[0m 346ms/step\n",
            "The sentiment is: positive\n"
          ]
        }
      ],
      "source": [
        "result = predictive_system(\"This movie was fantastic and amazing\")\n",
        "print(f\"The sentiment is: {result}\")\n"
      ]
    },
    {
      "cell_type": "markdown",
      "metadata": {
        "id": "nhy4yU-ymgvd"
      },
      "source": [
        "# Negative Output"
      ]
    },
    {
      "cell_type": "code",
      "execution_count": 36,
      "metadata": {
        "colab": {
          "base_uri": "https://localhost:8080/"
        },
        "id": "XxYjxvVm-Q--",
        "outputId": "7d02f895-207b-4d0d-dd21-b4618f14ce01"
      },
      "outputs": [
        {
          "output_type": "stream",
          "name": "stdout",
          "text": [
            "\u001b[1m1/1\u001b[0m \u001b[32m━━━━━━━━━━━━━━━━━━━━\u001b[0m\u001b[37m\u001b[0m \u001b[1m0s\u001b[0m 47ms/step\n",
            "The sentiment is: negative\n"
          ]
        }
      ],
      "source": [
        "result = predictive_system(\"This movie was worst experirence i have ever had\")\n",
        "print(f\"The sentiment is: {result}\")"
      ]
    },
    {
      "cell_type": "code",
      "source": [
        "result = predictive_system(\"Movie was so much Dragging\")\n",
        "print(f\"The sentiment is: {result}\")"
      ],
      "metadata": {
        "colab": {
          "base_uri": "https://localhost:8080/"
        },
        "id": "5Qn1-HCT6uXs",
        "outputId": "b7002313-54a4-4e1e-8cd9-9133559b9286"
      },
      "execution_count": 46,
      "outputs": [
        {
          "output_type": "stream",
          "name": "stdout",
          "text": [
            "\u001b[1m1/1\u001b[0m \u001b[32m━━━━━━━━━━━━━━━━━━━━\u001b[0m\u001b[37m\u001b[0m \u001b[1m0s\u001b[0m 55ms/step\n",
            "The sentiment is: negative\n"
          ]
        }
      ]
    },
    {
      "cell_type": "code",
      "source": [
        "result = predictive_system(\"It was hit my heart\")\n",
        "print(f\"The sentiment is: {result}\")"
      ],
      "metadata": {
        "colab": {
          "base_uri": "https://localhost:8080/"
        },
        "id": "vNviVZkv65Ty",
        "outputId": "20c5312f-2337-43ed-f8a1-34157953542c"
      },
      "execution_count": 47,
      "outputs": [
        {
          "output_type": "stream",
          "name": "stdout",
          "text": [
            "\u001b[1m1/1\u001b[0m \u001b[32m━━━━━━━━━━━━━━━━━━━━\u001b[0m\u001b[37m\u001b[0m \u001b[1m0s\u001b[0m 48ms/step\n",
            "The sentiment is: positive\n"
          ]
        }
      ]
    }
  ],
  "metadata": {
    "accelerator": "GPU",
    "colab": {
      "gpuType": "T4",
      "provenance": []
    },
    "kernelspec": {
      "display_name": "Python 3",
      "name": "python3"
    },
    "language_info": {
      "name": "python"
    }
  },
  "nbformat": 4,
  "nbformat_minor": 0
}